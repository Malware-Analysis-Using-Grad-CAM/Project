{
  "nbformat": 4,
  "nbformat_minor": 0,
  "metadata": {
    "colab": {
      "name": "MalwareDetect.ipynb",
      "provenance": [],
      "collapsed_sections": [],
      "authorship_tag": "ABX9TyNPPq3Kt3Tu10Q239pL4UaY",
      "include_colab_link": true
    },
    "kernelspec": {
      "name": "python3",
      "display_name": "Python 3"
    },
    "accelerator": "GPU"
  },
  "cells": [
    {
      "cell_type": "markdown",
      "metadata": {
        "id": "view-in-github",
        "colab_type": "text"
      },
      "source": [
        "<a href=\"https://colab.research.google.com/github/Malware-Analysis-Using-Grad-CAM/Project/blob/master/MalwareDetect.ipynb\" target=\"_parent\"><img src=\"https://colab.research.google.com/assets/colab-badge.svg\" alt=\"Open In Colab\"/></a>"
      ]
    },
    {
      "cell_type": "code",
      "metadata": {
        "id": "jEfH-CpQ7qeA"
      },
      "source": [
        "import numpy as np\n",
        "import torch\n",
        "from torch import nn\n",
        "import torch.nn.functional as F\n",
        "import random\n",
        "import os\n",
        "\n"
      ],
      "execution_count": 1,
      "outputs": []
    },
    {
      "cell_type": "code",
      "metadata": {
        "id": "SbRtIeSrAbrH",
        "outputId": "27f23eea-af1d-44c7-c9d9-86ab197033ae",
        "colab": {
          "base_uri": "https://localhost:8080/",
          "height": 35
        }
      },
      "source": [
        "from google.colab import drive\n",
        "\n",
        "drive.mount('/content/gdrive')"
      ],
      "execution_count": 2,
      "outputs": [
        {
          "output_type": "stream",
          "text": [
            "Mounted at /content/gdrive\n"
          ],
          "name": "stdout"
        }
      ]
    },
    {
      "cell_type": "code",
      "metadata": {
        "id": "5mflmMYv70_4"
      },
      "source": [
        "device = torch.device(\"cuda\" if torch.cuda.is_available() else \"cpu\")"
      ],
      "execution_count": 3,
      "outputs": []
    },
    {
      "cell_type": "code",
      "metadata": {
        "id": "jxMnEPlGB3VS"
      },
      "source": [
        "class Preprocessor:\n",
        "    def __init__(self, api_sequences, labels):\n",
        "        '''\n",
        "        api_sequences: list api sequences, each api sequnce == list of string\n",
        "        labels: list of labels, 'benign' or 'malware'\n",
        "        api_to_id: dictionary, key = string(api), value = int\n",
        "        id_to_api: dictionary, key = int, value = string(api)\n",
        "        api_id_num == len(api_to_id) == len(id_to_api)\n",
        "        label_to_id: dictionary, key = string(label), value = int\n",
        "        id_to_label: dictionary, key = int, value = string(label)\n",
        "        '''\n",
        "        self.api_sequences = api_sequences\n",
        "        self.labels = labels\n",
        "        self.api_to_id = {'<unk>': 0}\n",
        "        self.id_to_api = {0: '<unk>'}\n",
        "        self.api_id_num = 1\n",
        "        self.label_to_id = {}\n",
        "        self.id_to_label = {}\n",
        "        self.label_id_num = 0\n",
        "\n",
        "    def api_sequnces_to_tensor(self):\n",
        "        '''\n",
        "        make self.api_sequnces and self.labels to tensor and return\n",
        "        '''\n",
        "        xs = []\n",
        "        for api_sequnce in self.api_sequences:\n",
        "            t = np.array(list(\n",
        "                map(lambda x: self.api_to_id[x] if self.api_to_id.get(x) else 0, api_sequnce)), dtype='int64')\n",
        "            t = torch.from_numpy(t)\n",
        "            xs.append(t)\n",
        "        ys = []\n",
        "        for label in self.labels:\n",
        "            t = np.array(\n",
        "                [self.label_to_id[label]])\n",
        "            t = torch.from_numpy(t)\n",
        "            ys.append(t)\n",
        "        return xs, ys\n",
        "\n",
        "    def build_ids(self):\n",
        "        '''\n",
        "        build ids\n",
        "        if there is no api in api_to_id as key, add the key to dictionary\n",
        "\n",
        "        '''\n",
        "        for apis in self.api_sequences:\n",
        "            for api in apis:\n",
        "                if self.api_to_id.get(api) == None:\n",
        "                    self.api_to_id[api] = self.api_id_num\n",
        "                    self.id_to_api[self.api_id_num] = api\n",
        "                    self.api_id_num += 1\n",
        "\n",
        "        for label in self.labels:\n",
        "            if self.label_to_id.get(label) == None:\n",
        "                self.label_to_id[label] = self.label_id_num\n",
        "                self.id_to_label[self.label_id_num] = api\n",
        "                self.label_id_num += 1\n"
      ],
      "execution_count": 4,
      "outputs": []
    },
    {
      "cell_type": "code",
      "metadata": {
        "id": "ndcibnd676WR"
      },
      "source": [
        "# load data from .csv files\n",
        "def load_data(benign_dir, malware_dir):\n",
        "\n",
        "    benign_file_list = os.listdir(benign_dir)\n",
        "\n",
        "    benign_api_seq = []\n",
        "    for name in benign_file_list:\n",
        "        with open(benign_dir + name, 'r', encoding='utf-8') as file:\n",
        "            header = True\n",
        "            first_API = True\n",
        "            API_SEQ = []\n",
        "\n",
        "            for line in file:\n",
        "                if header:\n",
        "                    header = False\n",
        "                    continue\n",
        "\n",
        "                data = line[:-1].split(',')\n",
        "                if data[3].find('Process Start') != -1:\n",
        "                    line = file.readline()\n",
        "                    API_SEQ.append(data[3])\n",
        "                    while line.startswith(';'):\n",
        "                        line = file.readline()\n",
        "                data = line[:-1].split(',')\n",
        "\n",
        "                API_SEQ.append(data[3])\n",
        "\n",
        "        benign_api_seq.append(API_SEQ)\n",
        "\n",
        "    malware_file_list = os.listdir(malware_dir)\n",
        "\n",
        "    malware_api_seq = []\n",
        "    for name in malware_file_list:\n",
        "        with open(malware_dir + name, 'r', encoding='utf-8') as file:\n",
        "            header = True\n",
        "            first_API = True\n",
        "            API_SEQ = []\n",
        "\n",
        "            for line in file:\n",
        "                if header:\n",
        "                    header = False\n",
        "                    continue\n",
        "\n",
        "                data = line[:-1].split(',')\n",
        "                if data[3].find('Process Start') != -1:\n",
        "                    line = file.readline()\n",
        "                    API_SEQ.append(data[3])\n",
        "                    while line.startswith(';'):\n",
        "                        line = file.readline()\n",
        "                data = line[:-1].split(',')\n",
        "\n",
        "                API_SEQ.append(data[3])\n",
        "\n",
        "        malware_api_seq.append(API_SEQ)\n",
        "    return benign_api_seq, malware_api_seq\n"
      ],
      "execution_count": 5,
      "outputs": []
    },
    {
      "cell_type": "code",
      "metadata": {
        "id": "dgCKWzwP7sAH"
      },
      "source": [
        "\n",
        "class ClassifierWithAttention(nn.Module):\n",
        "    def __init__(self, batch_size, vocab_size, embed_size, hidden_size, output_size):\n",
        "        super(ClassifierWithAttention, self).__init__()\n",
        "\n",
        "        '''\n",
        "        batch_size: size of the batch\n",
        "        vocab_size: size of vocabulary containing api name\n",
        "        embed_size: Embedding dimension\n",
        "        hidden_size: size of the hidden state of the LSTM\n",
        "        output_size: 2 = (benign, malware)\n",
        "\n",
        "        embedding: layer for embedding\n",
        "        LSTM: LSTM layer\n",
        "        out: fully connected layer\n",
        "        act: sigmoid activation function\n",
        "        '''\n",
        "        self.batch_size = batch_size\n",
        "        self.vocab_size = vocab_size\n",
        "        self.embed_size = embed_size\n",
        "        self.hidden_size = hidden_size\n",
        "        self.output_size = output_size\n",
        "\n",
        "        self.embedding = nn.Embedding(self.vocab_size, self.embed_size)\n",
        "        self.lstm = nn.LSTM(\n",
        "            self.embed_size, self.hidden_size)\n",
        "        self.out = nn.Linear(self.hidden_size, self.output_size)\n",
        "        self.act = nn.Sigmoid()\n",
        "\n",
        "    def attention_net(self, lstm_output, final_state):\n",
        "        '''\n",
        "        lstm_output: (batch_size, num_seq, hidden_size)\n",
        "        hidden: (batch_size, hidden_size, 1)\n",
        "\n",
        "        compute attention weight by batch matrix multiplication of lstm_output and hidden\n",
        "        attn_weight: (batch_size, num_seq)\n",
        "        attn_applied: (batch_size, hidden_size)\n",
        "        \n",
        "        '''\n",
        "        hidden = final_state.view(-1, self.hidden_size, 1)\n",
        "        attn_weights = torch.bmm(lstm_output, hidden).squeeze(2)\n",
        "        attn_weights = F.softmax(attn_weights, 1)\n",
        "        attn_applied = torch.bmm(\n",
        "            lstm_output.transpose(1, 2), attn_weights.unsqueeze(2)\n",
        "        ).squeeze(2)\n",
        "        return attn_applied, attn_weights\n",
        "\n",
        "    def forward(self, input):\n",
        "        '''\n",
        "        parameter\n",
        "        input: tensor shape of number of sequence of API ID\n",
        "\n",
        "        returns\n",
        "        output: output of one-hot encoded vector.\n",
        "        output.shape == self.output_size (normally 2 for benign and malware)\n",
        "        attn_weight: attention weights\n",
        "        '''\n",
        "        embedded = self.embedding(input) # embedding input\n",
        "        embedded = embedded.permute(1, 0, 2) # (batch_size, num_seq, hidden_size) -> (num_seq, batch_size, hidden_size)\n",
        "\n",
        "        # initialize hidden state and cell\n",
        "        h_0 = torch.zeros(1, len(input), self.hidden_size).cuda()\n",
        "        c_0 = torch.zeros(1, len(input), self.hidden_size).cuda()\n",
        "\n",
        "        lstm_output, (hidden, cell) = self.lstm(embedded, (h_0, c_0))\n",
        "        lstm_output = lstm_output.permute(1, 0, 2) # (num_seq, batch_size, hidden_size) -> (batch_size, num_seq, hidden_size)\n",
        "\n",
        "        attn_applied, attn_weights = self.attention_net(lstm_output, hidden) # apply attention\n",
        "\n",
        "        output = self.out(attn_applied)\n",
        "        output = output.squeeze()\n",
        "        output = self.act(output)\n",
        "\n",
        "        return output, attn_weights\n",
        "\n",
        "    def initHidden(self):\n",
        "        return torch.zroes(1, 1, self.hidden_size, device=device)\n"
      ],
      "execution_count": 6,
      "outputs": []
    },
    {
      "cell_type": "code",
      "metadata": {
        "id": "_f5CRrZO8Afj"
      },
      "source": [
        "def move_to(l):\n",
        "    # move tensors to device\n",
        "    return [i.to(device) for i in l]\n",
        "\n",
        "\n",
        "def train(model, xs, ys, optimizer, criterion):\n",
        "    epoch_loss = 0\n",
        "    epoch_acc = 0\n",
        "    num_corrects = 0\n",
        "\n",
        "    model.train()\n",
        "\n",
        "    for i in range(len(xs)):\n",
        "        optimizer.zero_grad()\n",
        "\n",
        "        output, attn = model(xs[i].reshape(1, len(xs[i])))\n",
        "        target = ys[i]\n",
        "        target = torch.autograd.Variable(target).long()\n",
        "        output = output.unsqueeze(0)\n",
        "        loss = criterion(output, target)\n",
        "        acc = (torch.max(output, 1)[1].view(\n",
        "            target.size()).data == target.data).sum()\n",
        "        num_corrects += acc\n",
        "\n",
        "        loss.backward()\n",
        "        optimizer.step()\n",
        "\n",
        "        epoch_loss += loss.item()\n",
        "        epoch_acc += acc.item()\n",
        "\n",
        "    return epoch_loss / len(xs), epoch_acc / len(xs)\n"
      ],
      "execution_count": 7,
      "outputs": []
    },
    {
      "cell_type": "code",
      "metadata": {
        "id": "Y_quo8VlFLMN"
      },
      "source": [
        "def evaluate(model, xs, ys, criterion):\n",
        "  epoch_loss = 0\n",
        "  epoch_acc = 0\n",
        "\n",
        "  model.eval()\n",
        "\n",
        "  with torch.no_grad():\n",
        "    for i in range(len(xs)):\n",
        "      prediction, attn = model(xs[i].reshape(1, len(xs[i])))\n",
        "      prediction = prediction.squeeze()\n",
        "      prediction = prediction.unsqueeze(0)\n",
        "\n",
        "\n",
        "      target = ys[i]\n",
        "      target = torch.autograd.Variable(target).long()\n",
        "\n",
        "      loss = criterion(prediction, target)\n",
        "      acc = (torch.max(prediction, 1)[1].view(\n",
        "            target.size()).data == target.data).sum()\n",
        "      epoch_loss += loss.item()\n",
        "      epoch_acc += acc.item()\n",
        "\n",
        "  return epoch_loss / len(xs), epoch_acc / len(xs)\n"
      ],
      "execution_count": 8,
      "outputs": []
    },
    {
      "cell_type": "code",
      "metadata": {
        "id": "E2Dblu9fFHO9",
        "outputId": "133f0b33-968b-470f-9b55-5e956266b76b",
        "colab": {
          "base_uri": "https://localhost:8080/",
          "height": 179
        }
      },
      "source": [
        "benign_dir = \"/content/gdrive/My Drive/data/BENIGN_API_SEQUENCE/\"\n",
        "malware_dir = \"/content/gdrive/My Drive/data/MALWARE_API_SEQUENCE/\"\n",
        "\n",
        "# load data\n",
        "benign_api_sequence, malware_api_sequence = load_data(benign_dir, malware_dir)\n",
        "\n",
        "labels = ['benign' if i < len(benign_api_sequence) else 'malware' for i in range(\n",
        "    len(benign_api_sequence) + len(malware_api_sequence))]\n",
        "\n",
        "# make dictionary of api sequences and labels\n",
        "pp = Preprocessor(benign_api_sequence+malware_api_sequence, labels)\n",
        "\n",
        "pp.build_ids()\n",
        "api_sequence_tensors, label_tensors = pp.api_sequnces_to_tensor()\n",
        "\n",
        "api_sequence_tensors = move_to(api_sequence_tensors)\n",
        "label_tensors = move_to(label_tensors)\n",
        "\n",
        "# shuffle data for make training set and test set\n",
        "shuffle = list(zip(api_sequence_tensors, label_tensors))\n",
        "random.shuffle(shuffle)\n",
        "api_sequence_tensors, label_tensors = zip(*shuffle)\n",
        "\n",
        "# divide data into train set and test set by 0.7 ratio\n",
        "stop = int(np.floor(len(api_sequence_tensors) * 0.7))\n",
        "train_x, test_x = api_sequence_tensors[:stop], api_sequence_tensors[stop:]\n",
        "train_y, test_y = label_tensors[:stop], label_tensors[stop:]\n",
        "\n",
        "# model params\n",
        "num_id = pp.api_id_num\n",
        "embedding_size = 100\n",
        "num_hidden_nodes = 16\n",
        "num_output_nodes = 2\n",
        "\n",
        "model = ClassifierWithAttention(\n",
        "    1, num_id, embedding_size, num_hidden_nodes, num_output_nodes)\n",
        "\n",
        "optimizer = torch.optim.Adam(model.parameters())\n",
        "criterion = nn.CrossEntropyLoss()\n",
        "\n",
        "model = model.to(device)\n",
        "criterion = criterion.to(device)\n",
        "\n",
        "for epoch in range(3):\n",
        "  train_loss, train_acc = train(model, train_x, train_y, optimizer, criterion)\n",
        "  valid_loss, valid_acc = evaluate(model, test_x, test_y, criterion)\n",
        "\n",
        "  print(\"epoch {}\".format(epoch))\n",
        "  print(f\"\\tTrain Loss: {train_loss:.3f} | Train Acc: {train_acc*100:.2f}%\")\n",
        "  print(f\"\\tValid Loss: {valid_loss:.3f} | Valid Acc: {valid_acc*100:.2f}%\")\n"
      ],
      "execution_count": 9,
      "outputs": [
        {
          "output_type": "stream",
          "text": [
            "epoch 0\n",
            "\tTrain Loss: 0.680 | Train Acc: 56.52%\n",
            "\tValid Loss: 0.619 | Valid Acc: 76.00%\n",
            "epoch 1\n",
            "\tTrain Loss: 0.572 | Train Acc: 84.35%\n",
            "\tValid Loss: 0.509 | Valid Acc: 92.00%\n",
            "epoch 2\n",
            "\tTrain Loss: 0.477 | Train Acc: 89.57%\n",
            "\tValid Loss: 0.439 | Valid Acc: 92.00%\n"
          ],
          "name": "stdout"
        }
      ]
    },
    {
      "cell_type": "code",
      "metadata": {
        "id": "H798rIqqUDoB",
        "outputId": "761e3dc4-39d4-4a11-efdd-790fed2631d2",
        "colab": {
          "base_uri": "https://localhost:8080/",
          "height": 283
        }
      },
      "source": [
        "import matplotlib.pyplot as plt\n",
        "\n",
        "model.eval()\n",
        "\n",
        "# predict: predicted vector\n",
        "# attn: attention weight vector\n",
        "predict, attn = model(test_x[1].reshape(1, len(test_x[1])))\n",
        "attn = attn.cpu().detach().numpy().squeeze()\n",
        "\n",
        "seq = np.array(test_x[1].cpu())\n",
        "\n",
        "\n",
        "api_name = []\n",
        "for i in seq:\n",
        "  api_name.append(pp.id_to_api[i])\n",
        "api_name = np.array(api_name)\n",
        "\n",
        "# attention visualization\n",
        "plt.bar(np.arange(len(attn)), attn)\n"
      ],
      "execution_count": 10,
      "outputs": [
        {
          "output_type": "execute_result",
          "data": {
            "text/plain": [
              "<BarContainer object of 10 artists>"
            ]
          },
          "metadata": {
            "tags": []
          },
          "execution_count": 10
        },
        {
          "output_type": "display_data",
          "data": {
            "image/png": "[encoded data removed]",
            "text/plain": [
              "<Figure size 432x288 with 1 Axes>"
            ]
          },
          "metadata": {
            "tags": [],
            "needs_background": "light"
          }
        }
      ]
    },
    {
      "cell_type": "code",
      "metadata": {
        "id": "afWlAVKvA97f",
        "outputId": "ea247e5b-43e0-4afb-ebea-9000202e4b89",
        "colab": {
          "base_uri": "https://localhost:8080/",
          "height": 417
        }
      },
      "source": [
        "sort_arg = attn.argsort()\n",
        "sort_arg = sort_arg[::-1]\n",
        "sorted_attn = attn[sort_arg]\n",
        "sorted_api_name = api_name[sort_arg]\n",
        "\n",
        "plt.xticks(rotation=90)\n",
        "plt.bar(np.arange(10), sorted_attn[:10], tick_label=sorted_api_name[:10])\n"
      ],
      "execution_count": 11,
      "outputs": [
        {
          "output_type": "execute_result",
          "data": {
            "text/plain": [
              "<BarContainer object of 10 artists>"
            ]
          },
          "metadata": {
            "tags": []
          },
          "execution_count": 11
        },
        {
          "output_type": "display_data",
          "data": {
            "image/png": "[encoded data removed]",
            "text/plain": [
              "<Figure size 432x288 with 1 Axes>"
            ]
          },
          "metadata": {
            "tags": [],
            "needs_background": "light"
          }
        }
      ]
    }
  ]
}